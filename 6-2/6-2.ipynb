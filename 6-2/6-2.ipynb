{
 "cells": [
  {
   "cell_type": "code",
   "execution_count": null,
   "metadata": {},
   "outputs": [
    {
     "name": "stderr",
     "output_type": "stream",
     "text": [
      "c:\\Users\\User\\anaconda3\\envs\\iothw4\\lib\\site-packages\\transformers\\models\\marian\\tokenization_marian.py:175: UserWarning: Recommended: pip install sacremoses.\n",
      "  warnings.warn(\"Recommended: pip install sacremoses.\")\n"
     ]
    },
    {
     "name": "stdout",
     "output_type": "stream",
     "text": [
      "Translated text: A dog and a cat.\n"
     ]
    },
    {
     "data": {
      "application/vnd.jupyter.widget-view+json": {
       "model_id": "72c2d6941797470a8c3c4c66d8410ff0",
       "version_major": 2,
       "version_minor": 0
      },
      "text/plain": [
       "Loading pipeline components...:   0%|          | 0/7 [00:00<?, ?it/s]"
      ]
     },
     "metadata": {},
     "output_type": "display_data"
    },
    {
     "data": {
      "application/vnd.jupyter.widget-view+json": {
       "model_id": "658a6c4ad82948288321eafc687fa301",
       "version_major": 2,
       "version_minor": 0
      },
      "text/plain": [
       "  0%|          | 0/50 [00:00<?, ?it/s]"
      ]
     },
     "metadata": {},
     "output_type": "display_data"
    },
    {
     "name": "stdout",
     "output_type": "stream",
     "text": [
      "Image generated and saved as generated_image.png\n"
     ]
    }
   ],
   "source": [
    "from transformers import pipeline\n",
    "from diffusers import StableDiffusionPipeline\n",
    "import torch\n",
    "\n",
    "# 翻譯與生成圖片的函數\n",
    "def translate_and_generate_image(text):\n",
    "    try:\n",
    "        # 翻譯中文到英文\n",
    "        translator = pipeline(\"translation\", model=\"Helsinki-NLP/opus-mt-zh-en\")\n",
    "        translation = translator(text, max_length=100)[0]['translation_text']\n",
    "        print(f\"Translated text: {translation}\")\n",
    "\n",
    "        # 使用 Stable Diffusion 生成圖片\n",
    "        pipe = StableDiffusionPipeline.from_pretrained(\"runwayml/stable-diffusion-v1-5\")\n",
    "        pipe = pipe.to(\"cuda\" if torch.cuda.is_available() else \"cpu\")\n",
    "        image = pipe(translation).images[0]\n",
    "\n",
    "        # 保存生成的圖片\n",
    "        image_path = \"generated_image.png\"\n",
    "        image.save(image_path)\n",
    "        print(f\"Image generated and saved as {image_path}\")\n",
    "    except Exception as e:\n",
    "        print(f\"Error during processing: {e}\")\n",
    "\n",
    "# 主程式\n",
    "if __name__ == \"__main__\":\n",
    "    input_text = \"一個狗和一隻貓\"  # 中文輸入\n",
    "    translate_and_generate_image(input_text)\n"
   ]
  },
  {
   "cell_type": "code",
   "execution_count": 13,
   "metadata": {},
   "outputs": [
    {
     "name": "stderr",
     "output_type": "stream",
     "text": [
      "c:\\Users\\User\\anaconda3\\envs\\iothw4\\lib\\site-packages\\transformers\\models\\marian\\tokenization_marian.py:175: UserWarning: Recommended: pip install sacremoses.\n",
      "  warnings.warn(\"Recommended: pip install sacremoses.\")\n"
     ]
    },
    {
     "name": "stdout",
     "output_type": "stream",
     "text": [
      "Translated text: A dancing cat.\n"
     ]
    },
    {
     "data": {
      "application/vnd.jupyter.widget-view+json": {
       "model_id": "4be0be181a224449899c2610cbfac61c",
       "version_major": 2,
       "version_minor": 0
      },
      "text/plain": [
       "Loading pipeline components...:   0%|          | 0/7 [00:00<?, ?it/s]"
      ]
     },
     "metadata": {},
     "output_type": "display_data"
    },
    {
     "data": {
      "application/vnd.jupyter.widget-view+json": {
       "model_id": "a2a5850a65124433910981d9f4ac5538",
       "version_major": 2,
       "version_minor": 0
      },
      "text/plain": [
       "  0%|          | 0/50 [00:00<?, ?it/s]"
      ]
     },
     "metadata": {},
     "output_type": "display_data"
    },
    {
     "name": "stdout",
     "output_type": "stream",
     "text": [
      "Image generated and saved as A_dancing_cat..png\n"
     ]
    }
   ],
   "source": [
    "from transformers import pipeline\n",
    "from diffusers import StableDiffusionPipeline\n",
    "import torch\n",
    "from PIL import Image\n",
    "import re\n",
    "\n",
    "# 翻譯與生成圖片的函數\n",
    "def translate_and_generate_image(text):\n",
    "    try:\n",
    "        # 步驟1：翻譯中文到英文\n",
    "        translator = pipeline(\"translation\", model=\"Helsinki-NLP/opus-mt-zh-en\")\n",
    "        translation = translator(text, max_length=100)[0]['translation_text']\n",
    "        print(f\"Translated text: {translation}\")\n",
    "\n",
    "        # 清理翻譯結果作為檔名（移除空格和非法字符）\n",
    "        safe_translation = re.sub(r'[^\\w\\-_.]', '_', translation)  # 替換非法字符為下劃線\n",
    "\n",
    "        # 步驟2：使用 Stable Diffusion 生成圖片\n",
    "        pipe = StableDiffusionPipeline.from_pretrained(\"runwayml/stable-diffusion-v1-5\")\n",
    "        pipe = pipe.to(\"cuda\" if torch.cuda.is_available() else \"cpu\")\n",
    "        image = pipe(translation).images[0]\n",
    "\n",
    "        # 保存生成的圖片，檔名使用翻譯結果\n",
    "        image_path = f\"{safe_translation}.png\"\n",
    "        image.save(image_path)\n",
    "        print(f\"Image generated and saved as {image_path}\")\n",
    "\n",
    "        # 顯示生成的圖片\n",
    "        image.show()\n",
    "    except Exception as e:\n",
    "        print(f\"Error during processing: {e}\")\n",
    "\n",
    "# 主程式\n",
    "if __name__ == \"__main__\":\n",
    "    input_text = \"跳舞的貓\"  # 中文輸入\n",
    "    translate_and_generate_image(input_text)"
   ]
  }
 ],
 "metadata": {
  "kernelspec": {
   "display_name": "iothw4",
   "language": "python",
   "name": "python3"
  },
  "language_info": {
   "codemirror_mode": {
    "name": "ipython",
    "version": 3
   },
   "file_extension": ".py",
   "mimetype": "text/x-python",
   "name": "python",
   "nbconvert_exporter": "python",
   "pygments_lexer": "ipython3",
   "version": "3.8.20"
  }
 },
 "nbformat": 4,
 "nbformat_minor": 2
}
